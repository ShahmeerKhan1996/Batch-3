{
 "cells": [
  {
   "cell_type": "markdown",
   "id": "6cfd25d7-2816-468c-9b66-e53411f938ac",
   "metadata": {},
   "source": [
    "1- \n",
    "\n",
    "text = 'hello python world'\n",
    "\n",
    "Replace spaces with underscores in the string (e.g., \"hello python world\" → \"hello_python_world\").\n",
    "\n",
    "Split the modified string (e.g., \"hello_python_world\" → ['hello', 'python', 'world']).\n",
    "\n",
    "Join the list elements with a hyphen (-) between them (e.g., ['hello', 'python', 'world'] → \"hello-python-world\").\n",
    "\n",
    "Print all three results\n",
    "\n",
    "Hint: Use string methods"
   ]
  },
  {
   "cell_type": "code",
   "execution_count": 19,
   "id": "2e515207-421d-4d22-83b5-0505dca272c6",
   "metadata": {},
   "outputs": [
    {
     "name": "stdout",
     "output_type": "stream",
     "text": [
      "Step 1 (Replace spaces with underscores): hello_python_world\n",
      "Step 2 (Split into list): ['hello', 'python', 'world']\n",
      "Step 3 (Join with hyphen): hello-python-world\n"
     ]
    }
   ],
   "source": [
    "input_string = \"hello python world\"\n",
    "\n",
    "replaced_string = input_string.replace(\" \", \"_\")\n",
    "print(\"Step 1 (Replace spaces with underscores):\", replaced_string)\n",
    "\n",
    "split_list = replaced_string.split(\"_\")\n",
    "print(\"Step 2 (Split into list):\", split_list)\n",
    "\n",
    "joined_string = \"-\".join(split_list)\n",
    "print(\"Step 3 (Join with hyphen):\", joined_string)\n"
   ]
  },
  {
   "cell_type": "markdown",
   "id": "43b16f9d-fe31-4abf-8377-82c6cc146e07",
   "metadata": {},
   "source": [
    "2- Check if a string has more than 5 characters. Return True/False\n",
    "\n",
    "word = \"Javascript\""
   ]
  },
  {
   "cell_type": "code",
   "execution_count": 4,
   "id": "120a22af-3e1c-438e-98b9-2883132896e6",
   "metadata": {},
   "outputs": [
    {
     "name": "stdout",
     "output_type": "stream",
     "text": [
      "True\n"
     ]
    }
   ],
   "source": [
    "word = \"Javascript\"\n",
    "print(len(word) > 5)\n"
   ]
  },
  {
   "cell_type": "markdown",
   "id": "b1f1b114-fa24-40b3-851b-208bef6992f3",
   "metadata": {},
   "source": [
    "3- Check if a number is even and greater than 10. Return True/False\n",
    "\n",
    "num2 = 12"
   ]
  },
  {
   "cell_type": "code",
   "execution_count": 7,
   "id": "30bc50d6-c3ac-43b3-89c3-2bc1546285bf",
   "metadata": {},
   "outputs": [
    {
     "name": "stdout",
     "output_type": "stream",
     "text": [
      "True\n"
     ]
    }
   ],
   "source": [
    "num2 = 12\n",
    "print(num2 % 2 == 0 and num2 > 10)"
   ]
  },
  {
   "cell_type": "markdown",
   "id": "a8861555-edde-43cb-94c7-ace2988433fa",
   "metadata": {},
   "source": [
    "4- Check if a number is less than 5 or greater than 20. Return True/False\n",
    "\n",
    "num3 = 3"
   ]
  },
  {
   "cell_type": "code",
   "execution_count": 8,
   "id": "9130ff80-1980-4a3c-9c50-f3993fad5a3d",
   "metadata": {},
   "outputs": [
    {
     "name": "stdout",
     "output_type": "stream",
     "text": [
      "True\n"
     ]
    }
   ],
   "source": [
    "num3 = 3\n",
    "print(num3 < 5 or num3 > 20)"
   ]
  },
  {
   "cell_type": "markdown",
   "id": "1bb3ccd8-c052-47ed-ab1c-d76496b2174c",
   "metadata": {},
   "source": [
    "5- Check if a person’s age is between 18 and 65 and if they have a valid ID\n",
    "\n",
    "age = 25\n",
    "\n",
    "has_id = True"
   ]
  },
  {
   "cell_type": "code",
   "execution_count": 9,
   "id": "d8ec689f-7598-4400-98ec-6557c3e90c82",
   "metadata": {},
   "outputs": [
    {
     "name": "stdout",
     "output_type": "stream",
     "text": [
      "True\n"
     ]
    }
   ],
   "source": [
    "age = 25\n",
    "has_id = True\n",
    "print(18 <= age <= 65 and has_id)"
   ]
  },
  {
   "cell_type": "markdown",
   "id": "2842c61a-03a6-4501-b217-b616e35d5381",
   "metadata": {},
   "source": [
    "6-Write a script to check if a string starts with (http://) or (https://)\n",
    "\n",
    "url = \"https://www.example.com\""
   ]
  },
  {
   "cell_type": "code",
   "execution_count": 10,
   "id": "d730417a-ae73-4185-beb5-ed5c5571c9e3",
   "metadata": {},
   "outputs": [
    {
     "name": "stdout",
     "output_type": "stream",
     "text": [
      "True\n"
     ]
    }
   ],
   "source": [
    "url = \"https://www.example.com\"\n",
    "is_valid_url = url.startswith(\"http://\") or url.startswith(\"https://\")\n",
    "print(is_valid_url)"
   ]
  },
  {
   "cell_type": "markdown",
   "id": "aab1ae26-2cc7-4d19-937d-a83c6cffc5ec",
   "metadata": {},
   "source": [
    "7- Write a script that applies a 10% discount to an item's price. (Using Assignment Operator)\n",
    "\n",
    "price = 100"
   ]
  },
  {
   "cell_type": "code",
   "execution_count": 12,
   "id": "149d2a59-dde0-4eae-9a96-088bd79ef344",
   "metadata": {},
   "outputs": [
    {
     "name": "stdout",
     "output_type": "stream",
     "text": [
      "90.0\n"
     ]
    }
   ],
   "source": [
    "price = 100\n",
    "price *= 0.90\n",
    "print(price) \n"
   ]
  },
  {
   "cell_type": "markdown",
   "id": "f6cddfb2-70b7-4e67-9b02-728c82e92e2f",
   "metadata": {},
   "source": [
    "8- You are managing different customer lists for a subscription service, check if alice@example.com is our both premium and basic customer\n",
    "\n",
    "premium_customers = [\"alice@example.com\", \"charlie@example.com\", \"bob@example.com\"]\n",
    "\n",
    "basic_customers = [\"alex@example.com\", \"david@example.com\", \"chloe@example.com\"]"
   ]
  },
  {
   "cell_type": "code",
   "execution_count": 14,
   "id": "3dafa97d-8e06-4594-a131-ff32ee9acc9c",
   "metadata": {},
   "outputs": [
    {
     "name": "stdout",
     "output_type": "stream",
     "text": [
      "True\n"
     ]
    }
   ],
   "source": [
    "premium_customers = [\"alice@example.com\", \"charlie@example.com\", \"bob@example.com\"]\n",
    "basic_customers = [\"alex@example.com\", \"david@example.com\", \"alice@example.com\"]\n",
    "print('alice@example.com' in premium_customers and 'alice@example.com' in basic_customers)"
   ]
  },
  {
   "cell_type": "markdown",
   "id": "47dbafcf-7a6b-4ba0-af44-1e567292f8de",
   "metadata": {},
   "source": [
    "9. Write a Python program that prompts the user to enter a password and returns True or False based on the following checks:\n",
    "\n",
    "Whether the string contains any uppercase characters.\n",
    "\n",
    "Whether the string contains any lowercase characters.\n",
    "\n",
    "Whether the string contains any spaces.\n",
    "\n",
    "Whether the string contains any special characters (anything other than letters, digits, and spaces).\n",
    "\n",
    "\n",
    "\n",
    "Hint: Use Input function and string methods\n"
   ]
  },
  {
   "cell_type": "code",
   "execution_count": 16,
   "id": "73863c81-4ca6-496a-b2e9-f790e8a65e59",
   "metadata": {},
   "outputs": [
    {
     "name": "stdin",
     "output_type": "stream",
     "text": [
      "Enter password:  abc\n"
     ]
    },
    {
     "name": "stdout",
     "output_type": "stream",
     "text": [
      "Uppercase characters used: False\n",
      "Lowercase characters used: True\n",
      "Spaces used: False\n",
      "Special characters used: False\n"
     ]
    }
   ],
   "source": [
    "text = input(\"Enter password: \")\n",
    "\n",
    "has_upper = text != text.lower()\n",
    "\n",
    "has_lower = text != text.upper()\n",
    "\n",
    "has_space = text.count(' ') > 0\n",
    "\n",
    "has_special = not text.replace(' ', '').isalnum()\n",
    "\n",
    "print(\"Uppercase characters used: \" + str(has_upper))\n",
    "print(\"Lowercase characters used: \" + str(has_lower))\n",
    "print(\"Spaces used: \" + str(has_space))\n",
    "print(\"Special characters used: \" + str(has_special))\n"
   ]
  },
  {
   "cell_type": "markdown",
   "id": "8164e2d0-dc5a-4439-a196-1545e0a55139",
   "metadata": {},
   "source": [
    "10- You have a product code that follows the format \"SKU-12345-XYZ\". \n",
    "\n",
    "Find the first position of the dash (-).\n",
    "\n",
    "Count the number of dashes (-) in the product code.\n",
    "\n",
    "Remove the \"SKU-\" prefix and \"-XYZ\" suffix from the product code, Extract the numeric part 12345\n",
    "\n",
    "Hint: Use String Methods"
   ]
  },
  {
   "cell_type": "code",
   "execution_count": 20,
   "id": "a4a27fef-8d03-4e60-b712-64ff05062351",
   "metadata": {},
   "outputs": [
    {
     "name": "stdout",
     "output_type": "stream",
     "text": [
      "Position of the first dash: 3\n",
      "Number of dashes in the product code: 2\n",
      "12345\n"
     ]
    }
   ],
   "source": [
    "product_code = \"SKU-12345-XYZ\"\n",
    "\n",
    "first_dash_position = product_code.find('-')\n",
    "print(\"Position of the first dash:\", first_dash_position)\n",
    "\n",
    "dash_count = product_code.count('-')\n",
    "print(\"Number of dashes in the product code:\", dash_count)\n",
    "\n",
    "product_number = product_code.removeprefix(\"SKU-\").removesuffix(\"-XYZ\")\n",
    "\n",
    "print(product_number)"
   ]
  },
  {
   "cell_type": "code",
   "execution_count": null,
   "id": "3804ef6e-0881-4f70-a613-9d842c294016",
   "metadata": {},
   "outputs": [],
   "source": []
  }
 ],
 "metadata": {
  "kernelspec": {
   "display_name": "Python 3 (ipykernel)",
   "language": "python",
   "name": "python3"
  },
  "language_info": {
   "codemirror_mode": {
    "name": "ipython",
    "version": 3
   },
   "file_extension": ".py",
   "mimetype": "text/x-python",
   "name": "python",
   "nbconvert_exporter": "python",
   "pygments_lexer": "ipython3",
   "version": "3.12.7"
  }
 },
 "nbformat": 4,
 "nbformat_minor": 5
}

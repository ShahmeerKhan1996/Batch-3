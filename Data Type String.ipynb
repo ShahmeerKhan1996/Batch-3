{
 "cells": [
  {
   "cell_type": "markdown",
   "id": "907d9ed1-26da-42b4-9018-a3576f3b1ff9",
   "metadata": {},
   "source": [
    "### String"
   ]
  },
  {
   "cell_type": "code",
   "execution_count": null,
   "id": "1b13a988-8c66-41bd-808e-29d53f32ba41",
   "metadata": {},
   "outputs": [],
   "source": [
    "#concatenation\n"
   ]
  },
  {
   "cell_type": "code",
   "execution_count": null,
   "id": "be11ee66-0735-4efb-9145-6f19c080fd98",
   "metadata": {},
   "outputs": [],
   "source": [
    "#print email\n",
    "\n"
   ]
  },
  {
   "cell_type": "code",
   "execution_count": null,
   "id": "a7c24de8-4e24-4bcb-a32b-23367d9c328d",
   "metadata": {},
   "outputs": [],
   "source": [
    "#print URL\n",
    "\n"
   ]
  },
  {
   "cell_type": "code",
   "execution_count": null,
   "id": "5af6fe59-d17f-4640-b7f0-70f48b9e4db5",
   "metadata": {},
   "outputs": [],
   "source": [
    "#repetition\n",
    "\n"
   ]
  },
  {
   "cell_type": "code",
   "execution_count": null,
   "id": "8ccac9a5-3c8c-4fd6-9d02-3e2f83f6679e",
   "metadata": {},
   "outputs": [],
   "source": [
    "#print pattern\n"
   ]
  },
  {
   "cell_type": "code",
   "execution_count": null,
   "id": "a8a154e5-ee64-44fb-9582-5c5d5364ce42",
   "metadata": {},
   "outputs": [],
   "source": [
    "#length\n",
    "\n"
   ]
  },
  {
   "cell_type": "code",
   "execution_count": null,
   "id": "1132d701-8e80-4289-a5ec-50abef497665",
   "metadata": {},
   "outputs": [],
   "source": [
    "#print length of CNIC\n"
   ]
  },
  {
   "cell_type": "code",
   "execution_count": null,
   "id": "9eee209d-9781-4030-81bb-f10335feec25",
   "metadata": {},
   "outputs": [],
   "source": [
    "#print length of Phone #\n"
   ]
  },
  {
   "cell_type": "code",
   "execution_count": null,
   "id": "7127a018-4247-4763-9823-afe075e712fd",
   "metadata": {},
   "outputs": [],
   "source": [
    "#indexing\n",
    "\n"
   ]
  },
  {
   "cell_type": "code",
   "execution_count": null,
   "id": "17e3aac6-cbcd-4c6d-b110-4f643815519f",
   "metadata": {},
   "outputs": [],
   "source": [
    "#slicing\n",
    "\n"
   ]
  },
  {
   "cell_type": "code",
   "execution_count": null,
   "id": "7ee9e4d5-64af-48e7-a410-860d6b7a98a4",
   "metadata": {},
   "outputs": [],
   "source": []
  },
  {
   "cell_type": "code",
   "execution_count": 5,
   "id": "e9b3eebb-8a1b-426b-a743-de1d9b090210",
   "metadata": {},
   "outputs": [],
   "source": [
    "#Common Methods"
   ]
  },
  {
   "cell_type": "code",
   "execution_count": null,
   "id": "9f05b579-8456-4cf9-a06b-f914ca1f5835",
   "metadata": {},
   "outputs": [],
   "source": []
  },
  {
   "cell_type": "code",
   "execution_count": null,
   "id": "087c0726-e9bb-4457-b3c5-aa746742f345",
   "metadata": {},
   "outputs": [],
   "source": []
  },
  {
   "cell_type": "code",
   "execution_count": null,
   "id": "62249716-a86b-4861-9d27-f65f74118f32",
   "metadata": {},
   "outputs": [],
   "source": []
  }
 ],
 "metadata": {
  "kernelspec": {
   "display_name": "Python 3 (ipykernel)",
   "language": "python",
   "name": "python3"
  },
  "language_info": {
   "codemirror_mode": {
    "name": "ipython",
    "version": 3
   },
   "file_extension": ".py",
   "mimetype": "text/x-python",
   "name": "python",
   "nbconvert_exporter": "python",
   "pygments_lexer": "ipython3",
   "version": "3.12.7"
  }
 },
 "nbformat": 4,
 "nbformat_minor": 5
}
